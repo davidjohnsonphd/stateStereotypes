{
 "cells": [
  {
   "cell_type": "markdown",
   "metadata": {},
   "source": [
    "# State variability in racial stereotypes"
   ]
  },
  {
   "cell_type": "markdown",
   "metadata": {},
   "source": [
    "## Import relevant libraries"
   ]
  },
  {
   "cell_type": "code",
   "execution_count": 1,
   "metadata": {},
   "outputs": [],
   "source": [
    "import numpy as np # For higher dimensional arrays and functions\n",
    "import pandas as pd # For data frames and functions\n",
    "import matplotlib.pyplot as plt # For plotting data\n",
    "import statsmodels.api as sm # For linear regression models\n",
    "import statsmodels.formula.api as smf # For stats models formulas\n",
    "import statsmodels.stats.anova as ano # For nested model comparisons\n",
    "import geopandas as gpd # For state level plots"
   ]
  },
  {
   "cell_type": "markdown",
   "metadata": {},
   "source": [
    "## Load crime data from the Uniform Crime Report (UCR)"
   ]
  },
  {
   "cell_type": "code",
   "execution_count": 2,
   "metadata": {},
   "outputs": [],
   "source": [
    "ucr = pd.read_csv('UCR06-14.csv')"
   ]
  },
  {
   "cell_type": "code",
   "execution_count": 3,
   "metadata": {},
   "outputs": [],
   "source": [
    "# Rename column names for easier coding\n",
    "ucr.columns = ['state', 'year', 'offense', 'white', 'black']"
   ]
  },
  {
   "cell_type": "code",
   "execution_count": 4,
   "metadata": {},
   "outputs": [],
   "source": [
    "# Change offense number into text for interpretability\n",
    "ucr['offense'] = ucr['offense'].replace({11 : 'murder', 40 : 'assault'})"
   ]
  },
  {
   "cell_type": "code",
   "execution_count": 5,
   "metadata": {},
   "outputs": [],
   "source": [
    "# Code in state names, note FL doesn't provide data\n",
    "ucr['state'] = ucr['state'].str.extract(r'(\\d+)') # Regex to extract number\n",
    "ucr['state'] = pd.to_numeric(ucr['state']) # Convert to integer \n",
    "dict = {1:'AL', 2:'AZ', 3:'AR', 4:'CA', 5:'CO', 6:'CT', 7:'DE', 8:'DC',\n",
    "        9:'FL', 10:'GA', 11:'ID', 12:'IL', 13:'IN', 14:'IA', 15:'KS',\n",
    "        16:'KY', 17:'LA', 18:'ME', 19:'MD', 20:'MA', 21:'MI', 22:'MN',\n",
    "        23:'MS', 24:'MO', 25:'MT', 26:'NE', 27:'NV', 28:'NH', 29:'NJ',\n",
    "        30:'NM', 31:'NY', 32:'NC', 33:'ND', 34:'OH', 35:'OK', 36:'OR',\n",
    "        37:'PA', 38:'RI', 39:'SC', 40:'SD', 41:'TN', 42:'TX', 43:'UT',\n",
    "        44:'VT', 45:'VA', 46:'WA', 47:'WV', 48:'WI', 49:'WY', 50:'AK', \n",
    "        51:'HI'} # Dictionary of state abbreviations\n",
    "ucr['stateAbb'] = ucr['state'].map(dict) # State number to abbreviation"
   ]
  },
  {
   "cell_type": "markdown",
   "metadata": {},
   "source": [
    "## Aggregate data to the state level"
   ]
  },
  {
   "cell_type": "code",
   "execution_count": 6,
   "metadata": {},
   "outputs": [
    {
     "data": {
      "text/html": [
       "<div>\n",
       "<style scoped>\n",
       "    .dataframe tbody tr th:only-of-type {\n",
       "        vertical-align: middle;\n",
       "    }\n",
       "\n",
       "    .dataframe tbody tr th {\n",
       "        vertical-align: top;\n",
       "    }\n",
       "\n",
       "    .dataframe thead th {\n",
       "        text-align: right;\n",
       "    }\n",
       "</style>\n",
       "<table border=\"1\" class=\"dataframe\">\n",
       "  <thead>\n",
       "    <tr style=\"text-align: right;\">\n",
       "      <th></th>\n",
       "      <th>stateAbb</th>\n",
       "      <th>assaultW</th>\n",
       "      <th>murderW</th>\n",
       "      <th>assaultB</th>\n",
       "      <th>murderB</th>\n",
       "    </tr>\n",
       "  </thead>\n",
       "  <tbody>\n",
       "    <tr>\n",
       "      <th>0</th>\n",
       "      <td>AK</td>\n",
       "      <td>6142</td>\n",
       "      <td>111</td>\n",
       "      <td>1424</td>\n",
       "      <td>35</td>\n",
       "    </tr>\n",
       "    <tr>\n",
       "      <th>1</th>\n",
       "      <td>AL</td>\n",
       "      <td>6796</td>\n",
       "      <td>492</td>\n",
       "      <td>9124</td>\n",
       "      <td>878</td>\n",
       "    </tr>\n",
       "    <tr>\n",
       "      <th>2</th>\n",
       "      <td>AR</td>\n",
       "      <td>15940</td>\n",
       "      <td>300</td>\n",
       "      <td>12349</td>\n",
       "      <td>602</td>\n",
       "    </tr>\n",
       "    <tr>\n",
       "      <th>3</th>\n",
       "      <td>AZ</td>\n",
       "      <td>40806</td>\n",
       "      <td>1732</td>\n",
       "      <td>6826</td>\n",
       "      <td>334</td>\n",
       "    </tr>\n",
       "    <tr>\n",
       "      <th>4</th>\n",
       "      <td>CA</td>\n",
       "      <td>591799</td>\n",
       "      <td>10037</td>\n",
       "      <td>149759</td>\n",
       "      <td>3509</td>\n",
       "    </tr>\n",
       "  </tbody>\n",
       "</table>\n",
       "</div>"
      ],
      "text/plain": [
       "  stateAbb  assaultW  murderW  assaultB  murderB\n",
       "0       AK      6142      111      1424       35\n",
       "1       AL      6796      492      9124      878\n",
       "2       AR     15940      300     12349      602\n",
       "3       AZ     40806     1732      6826      334\n",
       "4       CA    591799    10037    149759     3509"
      ]
     },
     "execution_count": 6,
     "metadata": {},
     "output_type": "execute_result"
    }
   ],
   "source": [
    "# Group data by state and offense\n",
    "ucr = ucr.groupby(['stateAbb', 'offense']).agg({'white':'sum', 'black':'sum'})\n",
    "ucr = ucr.unstack() # Unstack data so each state is one line\n",
    "ucr = ucr.reset_index() # Reset indexes\n",
    "ucr.columns = ['stateAbb', 'assaultW', 'murderW', 'assaultB', 'murderB'] # Rename columns\n",
    "ucr.head() # Data now in right form to merge with state level census data"
   ]
  },
  {
   "cell_type": "markdown",
   "metadata": {},
   "source": [
    " ## Load homicide and census data and merge\n"
   ]
  },
  {
   "cell_type": "code",
   "execution_count": 7,
   "metadata": {},
   "outputs": [],
   "source": [
    "state = pd.read_csv('stateData.csv')"
   ]
  },
  {
   "cell_type": "code",
   "execution_count": 8,
   "metadata": {},
   "outputs": [
    {
     "data": {
      "text/html": [
       "<div>\n",
       "<style scoped>\n",
       "    .dataframe tbody tr th:only-of-type {\n",
       "        vertical-align: middle;\n",
       "    }\n",
       "\n",
       "    .dataframe tbody tr th {\n",
       "        vertical-align: top;\n",
       "    }\n",
       "\n",
       "    .dataframe thead th {\n",
       "        text-align: right;\n",
       "    }\n",
       "</style>\n",
       "<table border=\"1\" class=\"dataframe\">\n",
       "  <thead>\n",
       "    <tr style=\"text-align: right;\">\n",
       "      <th></th>\n",
       "      <th>state</th>\n",
       "      <th>stateAbb</th>\n",
       "      <th>fips</th>\n",
       "      <th>weaponD</th>\n",
       "      <th>raceD</th>\n",
       "      <th>blackViolent</th>\n",
       "      <th>deathsB</th>\n",
       "      <th>populationB</th>\n",
       "      <th>deathsW</th>\n",
       "      <th>populationW</th>\n",
       "      <th>...</th>\n",
       "      <th>female</th>\n",
       "      <th>white</th>\n",
       "      <th>age</th>\n",
       "      <th>bachelors</th>\n",
       "      <th>income</th>\n",
       "      <th>con</th>\n",
       "      <th>assaultW</th>\n",
       "      <th>murderW</th>\n",
       "      <th>assaultB</th>\n",
       "      <th>murderB</th>\n",
       "    </tr>\n",
       "  </thead>\n",
       "  <tbody>\n",
       "    <tr>\n",
       "      <th>0</th>\n",
       "      <td>Alabama</td>\n",
       "      <td>AL</td>\n",
       "      <td>1</td>\n",
       "      <td>0.356574</td>\n",
       "      <td>0.30802</td>\n",
       "      <td>4.399330</td>\n",
       "      <td>2472</td>\n",
       "      <td>12684866</td>\n",
       "      <td>1046</td>\n",
       "      <td>32340615</td>\n",
       "      <td>...</td>\n",
       "      <td>2459548</td>\n",
       "      <td>3204402</td>\n",
       "      <td>37.9</td>\n",
       "      <td>21.9</td>\n",
       "      <td>40474</td>\n",
       "      <td>0.609819</td>\n",
       "      <td>6796</td>\n",
       "      <td>492</td>\n",
       "      <td>9124</td>\n",
       "      <td>878</td>\n",
       "    </tr>\n",
       "    <tr>\n",
       "      <th>1</th>\n",
       "      <td>Alaska</td>\n",
       "      <td>AK</td>\n",
       "      <td>2</td>\n",
       "      <td>0.354077</td>\n",
       "      <td>0.31888</td>\n",
       "      <td>4.091880</td>\n",
       "      <td>26</td>\n",
       "      <td>297673</td>\n",
       "      <td>127</td>\n",
       "      <td>4748269</td>\n",
       "      <td>...</td>\n",
       "      <td>340603</td>\n",
       "      <td>455320</td>\n",
       "      <td>33.8</td>\n",
       "      <td>27.9</td>\n",
       "      <td>64576</td>\n",
       "      <td>0.558537</td>\n",
       "      <td>6142</td>\n",
       "      <td>111</td>\n",
       "      <td>1424</td>\n",
       "      <td>35</td>\n",
       "    </tr>\n",
       "    <tr>\n",
       "      <th>2</th>\n",
       "      <td>Arizona</td>\n",
       "      <td>AZ</td>\n",
       "      <td>3</td>\n",
       "      <td>0.380817</td>\n",
       "      <td>0.33024</td>\n",
       "      <td>4.207940</td>\n",
       "      <td>414</td>\n",
       "      <td>2740862</td>\n",
       "      <td>1078</td>\n",
       "      <td>37760263</td>\n",
       "      <td>...</td>\n",
       "      <td>3216194</td>\n",
       "      <td>3695647</td>\n",
       "      <td>35.9</td>\n",
       "      <td>25.9</td>\n",
       "      <td>46789</td>\n",
       "      <td>0.519871</td>\n",
       "      <td>40806</td>\n",
       "      <td>1732</td>\n",
       "      <td>6826</td>\n",
       "      <td>334</td>\n",
       "    </tr>\n",
       "    <tr>\n",
       "      <th>3</th>\n",
       "      <td>Arkansas</td>\n",
       "      <td>AR</td>\n",
       "      <td>5</td>\n",
       "      <td>0.357103</td>\n",
       "      <td>0.31042</td>\n",
       "      <td>4.293095</td>\n",
       "      <td>958</td>\n",
       "      <td>4601179</td>\n",
       "      <td>714</td>\n",
       "      <td>21993180</td>\n",
       "      <td>...</td>\n",
       "      <td>1484281</td>\n",
       "      <td>2173469</td>\n",
       "      <td>37.4</td>\n",
       "      <td>19.5</td>\n",
       "      <td>38307</td>\n",
       "      <td>0.599523</td>\n",
       "      <td>15940</td>\n",
       "      <td>300</td>\n",
       "      <td>12349</td>\n",
       "      <td>602</td>\n",
       "    </tr>\n",
       "    <tr>\n",
       "      <th>4</th>\n",
       "      <td>California</td>\n",
       "      <td>CA</td>\n",
       "      <td>6</td>\n",
       "      <td>0.374339</td>\n",
       "      <td>0.30497</td>\n",
       "      <td>4.308789</td>\n",
       "      <td>5248</td>\n",
       "      <td>23792038</td>\n",
       "      <td>2852</td>\n",
       "      <td>155319352</td>\n",
       "      <td>...</td>\n",
       "      <td>18736126</td>\n",
       "      <td>14956253</td>\n",
       "      <td>35.2</td>\n",
       "      <td>30.1</td>\n",
       "      <td>57708</td>\n",
       "      <td>0.353956</td>\n",
       "      <td>591799</td>\n",
       "      <td>10037</td>\n",
       "      <td>149759</td>\n",
       "      <td>3509</td>\n",
       "    </tr>\n",
       "  </tbody>\n",
       "</table>\n",
       "<p>5 rows × 22 columns</p>\n",
       "</div>"
      ],
      "text/plain": [
       "        state stateAbb  fips   weaponD    raceD  blackViolent  deathsB  \\\n",
       "0     Alabama       AL     1  0.356574  0.30802      4.399330     2472   \n",
       "1      Alaska       AK     2  0.354077  0.31888      4.091880       26   \n",
       "2     Arizona       AZ     3  0.380817  0.33024      4.207940      414   \n",
       "3    Arkansas       AR     5  0.357103  0.31042      4.293095      958   \n",
       "4  California       CA     6  0.374339  0.30497      4.308789     5248   \n",
       "\n",
       "   populationB  deathsW  populationW  ...    female     white   age  \\\n",
       "0     12684866     1046     32340615  ...   2459548   3204402  37.9   \n",
       "1       297673      127      4748269  ...    340603    455320  33.8   \n",
       "2      2740862     1078     37760263  ...   3216194   3695647  35.9   \n",
       "3      4601179      714     21993180  ...   1484281   2173469  37.4   \n",
       "4     23792038     2852    155319352  ...  18736126  14956253  35.2   \n",
       "\n",
       "   bachelors  income       con  assaultW  murderW  assaultB  murderB  \n",
       "0       21.9   40474  0.609819      6796      492      9124      878  \n",
       "1       27.9   64576  0.558537      6142      111      1424       35  \n",
       "2       25.9   46789  0.519871     40806     1732      6826      334  \n",
       "3       19.5   38307  0.599523     15940      300     12349      602  \n",
       "4       30.1   57708  0.353956    591799    10037    149759     3509  \n",
       "\n",
       "[5 rows x 22 columns]"
      ]
     },
     "execution_count": 8,
     "metadata": {},
     "output_type": "execute_result"
    }
   ],
   "source": [
    "df = state.merge(right = ucr, on = 'stateAbb')\n",
    "df.iloc[0:5, :]"
   ]
  },
  {
   "cell_type": "markdown",
   "metadata": {},
   "source": [
    "## Feature Manipulation"
   ]
  },
  {
   "cell_type": "code",
   "execution_count": 9,
   "metadata": {},
   "outputs": [
    {
     "data": {
      "text/plain": [
       "Index(['state', 'stateAbb', 'fips', 'weaponD', 'raceD', 'blackViolent',\n",
       "       'deathsB', 'populationB', 'deathsW', 'populationW', 'population2010',\n",
       "       'male', 'female', 'white', 'age', 'bachelors', 'income', 'con',\n",
       "       'assaultW', 'murderW', 'assaultB', 'murderB', 'deathRateB',\n",
       "       'assaultRateB', 'murderRateB', 'deathRateW', 'assaultRateW',\n",
       "       'murderRateW', 'sexRatio', 'perWhite'],\n",
       "      dtype='object')"
      ]
     },
     "execution_count": 9,
     "metadata": {},
     "output_type": "execute_result"
    }
   ],
   "source": [
    "df['deathRateB'] = round((df['deathsB'] / df['populationB']) * 100000)\n",
    "df['assaultRateB'] = round((df['assaultB'] / df['populationB']) * 100000)\n",
    "df['murderRateB'] = round((df['murderB'] / df['populationB']) * 100000)\n",
    "df['deathRateW'] = round((df['deathsW'] / df['populationW']) * 100000)\n",
    "df['assaultRateW'] = round((df['assaultW'] / df['populationW']) * 100000)\n",
    "df['murderRateW'] = round((df['murderW'] / df['populationW']) * 100000)\n",
    "df['sexRatio'] = round(df['male'] / df['female'], 4)\n",
    "df['perWhite'] = round(df['white'] / df['population2010'], 4)\n",
    "df.columns"
   ]
  },
  {
   "cell_type": "markdown",
   "metadata": {},
   "source": [
    "## Descriptives\n",
    "\n",
    "Survey asked whether respondents associated Whites or Blacks more with violence.\n",
    "\n",
    "On a 1-7 scale, higher values indicate Blacks associated with violence.\n",
    "\n",
    "1 = Whites violent, 4 = Neutral, 7 = Blacks violent"
   ]
  },
  {
   "cell_type": "code",
   "execution_count": 10,
   "metadata": {},
   "outputs": [
    {
     "data": {
      "text/html": [
       "<div>\n",
       "<style scoped>\n",
       "    .dataframe tbody tr th:only-of-type {\n",
       "        vertical-align: middle;\n",
       "    }\n",
       "\n",
       "    .dataframe tbody tr th {\n",
       "        vertical-align: top;\n",
       "    }\n",
       "\n",
       "    .dataframe thead th {\n",
       "        text-align: right;\n",
       "    }\n",
       "</style>\n",
       "<table border=\"1\" class=\"dataframe\">\n",
       "  <thead>\n",
       "    <tr style=\"text-align: right;\">\n",
       "      <th></th>\n",
       "      <th>state</th>\n",
       "      <th>blackViolent</th>\n",
       "    </tr>\n",
       "  </thead>\n",
       "  <tbody>\n",
       "    <tr>\n",
       "      <th>12</th>\n",
       "      <td>Illinois</td>\n",
       "      <td>4.484216</td>\n",
       "    </tr>\n",
       "    <tr>\n",
       "      <th>29</th>\n",
       "      <td>New Jersey</td>\n",
       "      <td>4.469028</td>\n",
       "    </tr>\n",
       "    <tr>\n",
       "      <th>21</th>\n",
       "      <td>Michigan</td>\n",
       "      <td>4.445770</td>\n",
       "    </tr>\n",
       "    <tr>\n",
       "      <th>37</th>\n",
       "      <td>Pennsylvania</td>\n",
       "      <td>4.423164</td>\n",
       "    </tr>\n",
       "    <tr>\n",
       "      <th>6</th>\n",
       "      <td>Connecticut</td>\n",
       "      <td>4.420369</td>\n",
       "    </tr>\n",
       "  </tbody>\n",
       "</table>\n",
       "</div>"
      ],
      "text/plain": [
       "           state  blackViolent\n",
       "12      Illinois      4.484216\n",
       "29    New Jersey      4.469028\n",
       "21      Michigan      4.445770\n",
       "37  Pennsylvania      4.423164\n",
       "6    Connecticut      4.420369"
      ]
     },
     "execution_count": 10,
     "metadata": {},
     "output_type": "execute_result"
    }
   ],
   "source": [
    "#States with strongest stereotype\n",
    "df.sort_values(by = ['blackViolent'], ascending = False).loc[: , [\"state\", \"blackViolent\"]].head()"
   ]
  },
  {
   "cell_type": "code",
   "execution_count": 11,
   "metadata": {},
   "outputs": [
    {
     "data": {
      "text/html": [
       "<div>\n",
       "<style scoped>\n",
       "    .dataframe tbody tr th:only-of-type {\n",
       "        vertical-align: middle;\n",
       "    }\n",
       "\n",
       "    .dataframe tbody tr th {\n",
       "        vertical-align: top;\n",
       "    }\n",
       "\n",
       "    .dataframe thead th {\n",
       "        text-align: right;\n",
       "    }\n",
       "</style>\n",
       "<table border=\"1\" class=\"dataframe\">\n",
       "  <thead>\n",
       "    <tr style=\"text-align: right;\">\n",
       "      <th></th>\n",
       "      <th>state</th>\n",
       "      <th>blackViolent</th>\n",
       "    </tr>\n",
       "  </thead>\n",
       "  <tbody>\n",
       "    <tr>\n",
       "      <th>25</th>\n",
       "      <td>Montana</td>\n",
       "      <td>4.026421</td>\n",
       "    </tr>\n",
       "    <tr>\n",
       "      <th>49</th>\n",
       "      <td>Wyoming</td>\n",
       "      <td>4.044747</td>\n",
       "    </tr>\n",
       "    <tr>\n",
       "      <th>36</th>\n",
       "      <td>Oregon</td>\n",
       "      <td>4.059621</td>\n",
       "    </tr>\n",
       "    <tr>\n",
       "      <th>44</th>\n",
       "      <td>Vermont</td>\n",
       "      <td>4.087209</td>\n",
       "    </tr>\n",
       "    <tr>\n",
       "      <th>1</th>\n",
       "      <td>Alaska</td>\n",
       "      <td>4.091880</td>\n",
       "    </tr>\n",
       "  </tbody>\n",
       "</table>\n",
       "</div>"
      ],
      "text/plain": [
       "      state  blackViolent\n",
       "25  Montana      4.026421\n",
       "49  Wyoming      4.044747\n",
       "36   Oregon      4.059621\n",
       "44  Vermont      4.087209\n",
       "1    Alaska      4.091880"
      ]
     },
     "execution_count": 11,
     "metadata": {},
     "output_type": "execute_result"
    }
   ],
   "source": [
    "#States with weakest stereotype\n",
    "df.sort_values(by = ['blackViolent'], ascending = True).loc[: , [\"state\", \"blackViolent\"]].head()"
   ]
  },
  {
   "cell_type": "markdown",
   "metadata": {},
   "source": [
    "## Map of State Level Variation"
   ]
  },
  {
   "cell_type": "code",
   "execution_count": 12,
   "metadata": {},
   "outputs": [],
   "source": [
    "us = gpd.read_file('states.shp') #Read in shape file of the United States\n",
    "us.columns = ['state', 'drawSeq', \"fips\", \"region\", \"stateAbb\", \"geometry\"] # Rename columns\n",
    "us = us.merge(right = state[['stateAbb', 'blackViolent', 'weaponD']], on = 'stateAbb') # Merge"
   ]
  },
  {
   "cell_type": "code",
   "execution_count": 13,
   "metadata": {},
   "outputs": [
    {
     "data": {
      "text/html": [
       "<div>\n",
       "<style scoped>\n",
       "    .dataframe tbody tr th:only-of-type {\n",
       "        vertical-align: middle;\n",
       "    }\n",
       "\n",
       "    .dataframe tbody tr th {\n",
       "        vertical-align: top;\n",
       "    }\n",
       "\n",
       "    .dataframe thead th {\n",
       "        text-align: right;\n",
       "    }\n",
       "</style>\n",
       "<table border=\"1\" class=\"dataframe\">\n",
       "  <thead>\n",
       "    <tr style=\"text-align: right;\">\n",
       "      <th></th>\n",
       "      <th>state</th>\n",
       "      <th>drawSeq</th>\n",
       "      <th>fips</th>\n",
       "      <th>region</th>\n",
       "      <th>stateAbb</th>\n",
       "      <th>geometry</th>\n",
       "      <th>blackViolent</th>\n",
       "      <th>weaponD</th>\n",
       "    </tr>\n",
       "  </thead>\n",
       "  <tbody>\n",
       "    <tr>\n",
       "      <th>0</th>\n",
       "      <td>Hawaii</td>\n",
       "      <td>1</td>\n",
       "      <td>15</td>\n",
       "      <td>Pacific</td>\n",
       "      <td>HI</td>\n",
       "      <td>MULTIPOLYGON (((-160.07380 22.00418, -160.0497...</td>\n",
       "      <td>4.245516</td>\n",
       "      <td>0.385040</td>\n",
       "    </tr>\n",
       "    <tr>\n",
       "      <th>1</th>\n",
       "      <td>Washington</td>\n",
       "      <td>2</td>\n",
       "      <td>53</td>\n",
       "      <td>Pacific</td>\n",
       "      <td>WA</td>\n",
       "      <td>MULTIPOLYGON (((-122.40202 48.22522, -122.4628...</td>\n",
       "      <td>4.165759</td>\n",
       "      <td>0.374944</td>\n",
       "    </tr>\n",
       "    <tr>\n",
       "      <th>2</th>\n",
       "      <td>Montana</td>\n",
       "      <td>3</td>\n",
       "      <td>30</td>\n",
       "      <td>Mountain</td>\n",
       "      <td>MT</td>\n",
       "      <td>POLYGON ((-111.47543 44.70216, -111.48080 44.6...</td>\n",
       "      <td>4.026421</td>\n",
       "      <td>0.357834</td>\n",
       "    </tr>\n",
       "    <tr>\n",
       "      <th>3</th>\n",
       "      <td>Maine</td>\n",
       "      <td>4</td>\n",
       "      <td>23</td>\n",
       "      <td>New England</td>\n",
       "      <td>ME</td>\n",
       "      <td>MULTIPOLYGON (((-69.77728 44.07415, -69.85993 ...</td>\n",
       "      <td>4.172157</td>\n",
       "      <td>0.388200</td>\n",
       "    </tr>\n",
       "    <tr>\n",
       "      <th>4</th>\n",
       "      <td>North Dakota</td>\n",
       "      <td>5</td>\n",
       "      <td>38</td>\n",
       "      <td>West North Central</td>\n",
       "      <td>ND</td>\n",
       "      <td>POLYGON ((-98.73044 45.93827, -99.00683 45.939...</td>\n",
       "      <td>4.301829</td>\n",
       "      <td>0.379473</td>\n",
       "    </tr>\n",
       "  </tbody>\n",
       "</table>\n",
       "</div>"
      ],
      "text/plain": [
       "          state  drawSeq fips              region stateAbb  \\\n",
       "0        Hawaii        1   15             Pacific       HI   \n",
       "1    Washington        2   53             Pacific       WA   \n",
       "2       Montana        3   30            Mountain       MT   \n",
       "3         Maine        4   23         New England       ME   \n",
       "4  North Dakota        5   38  West North Central       ND   \n",
       "\n",
       "                                            geometry  blackViolent   weaponD  \n",
       "0  MULTIPOLYGON (((-160.07380 22.00418, -160.0497...      4.245516  0.385040  \n",
       "1  MULTIPOLYGON (((-122.40202 48.22522, -122.4628...      4.165759  0.374944  \n",
       "2  POLYGON ((-111.47543 44.70216, -111.48080 44.6...      4.026421  0.357834  \n",
       "3  MULTIPOLYGON (((-69.77728 44.07415, -69.85993 ...      4.172157  0.388200  \n",
       "4  POLYGON ((-98.73044 45.93827, -99.00683 45.939...      4.301829  0.379473  "
      ]
     },
     "execution_count": 13,
     "metadata": {},
     "output_type": "execute_result"
    }
   ],
   "source": [
    "us.head()"
   ]
  },
  {
   "cell_type": "code",
   "execution_count": 14,
   "metadata": {},
   "outputs": [
    {
     "data": {
      "text/plain": [
       "(49, 8)"
      ]
     },
     "execution_count": 14,
     "metadata": {},
     "output_type": "execute_result"
    }
   ],
   "source": [
    "con = us[(us.stateAbb != 'AK') & (us.stateAbb != 'HI')] # Remove AK and HI\n",
    "con.shape # Verify AK and HI removed"
   ]
  },
  {
   "cell_type": "code",
   "execution_count": 15,
   "metadata": {},
   "outputs": [
    {
     "data": {
      "image/png": "[encoded data removed]",
      "text/plain": [
       "<Figure size 1080x720 with 2 Axes>"
      ]
     },
     "metadata": {
      "needs_background": "light"
     },
     "output_type": "display_data"
    }
   ],
   "source": [
    "plt.rc('font', size = 16)\n",
    "fig, ax = plt.subplots(figsize = (15,10))\n",
    "ax.axis(\"off\") # Turn off axes\n",
    "lims = plt.axis('equal') # Keep scaling raction between both axes\n",
    "con_map = con.plot(column = 'blackViolent',\n",
    "            ax = ax,\n",
    "            legend = True,\n",
    "            cmap = 'Reds',\n",
    "            legend_kwds = {'label':'Strength of Black-Violence Stereotype',\n",
    "                           'orientation':'horizontal'})"
   ]
  },
  {
   "cell_type": "markdown",
   "metadata": {},
   "source": [
    "## Regression Models"
   ]
  },
  {
   "cell_type": "code",
   "execution_count": 16,
   "metadata": {},
   "outputs": [],
   "source": [
    "# Standardize data\n",
    "cols_to_standardize = ['blackViolent', 'sexRatio', 'age', 'perWhite', 'income', 'bachelors', 'con',\n",
    "    'murderRateW', 'murderRateB', 'deathRateW', 'deathRateB']\n",
    "df[cols_to_standardize] = df[cols_to_standardize].apply(lambda x: (x-x.mean()) / x.std())"
   ]
  },
  {
   "cell_type": "code",
   "execution_count": 17,
   "metadata": {},
   "outputs": [],
   "source": [
    "# Run regression models\n",
    "control_model = smf.ols('blackViolent ~ sexRatio + age + perWhite + income +\\\n",
    "                     bachelors + con', data = df).fit() # Fit regression to control features\n",
    "murder_model = smf.ols('blackViolent ~ sexRatio + age + perWhite + income +\\\n",
    "                       bachelors + con + murderRateB + murderRateW', data = df).fit() # Plus murder features\n",
    "death_model = smf.ols('blackViolent ~ sexRatio + age + perWhite + income +\\\n",
    "                      bachelors + con + deathRateB + deathRateW', data = df).fit() # Plus death features"
   ]
  },
  {
   "cell_type": "code",
   "execution_count": 18,
   "metadata": {},
   "outputs": [
    {
     "data": {
      "text/html": [
       "<table class=\"simpletable\">\n",
       "<caption>OLS Regression Results</caption>\n",
       "<tr>\n",
       "  <th>Dep. Variable:</th>      <td>blackViolent</td>   <th>  R-squared:         </th> <td>   0.572</td>\n",
       "</tr>\n",
       "<tr>\n",
       "  <th>Model:</th>                   <td>OLS</td>       <th>  Adj. R-squared:    </th> <td>   0.488</td>\n",
       "</tr>\n",
       "<tr>\n",
       "  <th>Method:</th>             <td>Least Squares</td>  <th>  F-statistic:       </th> <td>   6.843</td>\n",
       "</tr>\n",
       "<tr>\n",
       "  <th>Date:</th>             <td>Sat, 04 Apr 2020</td> <th>  Prob (F-statistic):</th> <td>1.11e-05</td>\n",
       "</tr>\n",
       "<tr>\n",
       "  <th>Time:</th>                 <td>13:58:07</td>     <th>  Log-Likelihood:    </th> <td> -49.240</td>\n",
       "</tr>\n",
       "<tr>\n",
       "  <th>No. Observations:</th>      <td>    50</td>      <th>  AIC:               </th> <td>   116.5</td>\n",
       "</tr>\n",
       "<tr>\n",
       "  <th>Df Residuals:</th>          <td>    41</td>      <th>  BIC:               </th> <td>   133.7</td>\n",
       "</tr>\n",
       "<tr>\n",
       "  <th>Df Model:</th>              <td>     8</td>      <th>                     </th>     <td> </td>   \n",
       "</tr>\n",
       "<tr>\n",
       "  <th>Covariance Type:</th>      <td>nonrobust</td>    <th>                     </th>     <td> </td>   \n",
       "</tr>\n",
       "</table>\n",
       "<table class=\"simpletable\">\n",
       "<tr>\n",
       "       <td></td>          <th>coef</th>     <th>std err</th>      <th>t</th>      <th>P>|t|</th>  <th>[0.025</th>    <th>0.975]</th>  \n",
       "</tr>\n",
       "<tr>\n",
       "  <th>Intercept</th>   <td> 7.949e-15</td> <td>    0.101</td> <td> 7.86e-14</td> <td> 1.000</td> <td>   -0.204</td> <td>    0.204</td>\n",
       "</tr>\n",
       "<tr>\n",
       "  <th>sexRatio</th>    <td>   -0.7174</td> <td>    0.155</td> <td>   -4.615</td> <td> 0.000</td> <td>   -1.031</td> <td>   -0.403</td>\n",
       "</tr>\n",
       "<tr>\n",
       "  <th>age</th>         <td>   -0.0272</td> <td>    0.158</td> <td>   -0.172</td> <td> 0.864</td> <td>   -0.346</td> <td>    0.292</td>\n",
       "</tr>\n",
       "<tr>\n",
       "  <th>perWhite</th>    <td>   -0.1427</td> <td>    0.201</td> <td>   -0.708</td> <td> 0.483</td> <td>   -0.549</td> <td>    0.264</td>\n",
       "</tr>\n",
       "<tr>\n",
       "  <th>income</th>      <td>    0.5495</td> <td>    0.202</td> <td>    2.718</td> <td> 0.010</td> <td>    0.141</td> <td>    0.958</td>\n",
       "</tr>\n",
       "<tr>\n",
       "  <th>bachelors</th>   <td>   -0.5333</td> <td>    0.254</td> <td>   -2.098</td> <td> 0.042</td> <td>   -1.047</td> <td>   -0.020</td>\n",
       "</tr>\n",
       "<tr>\n",
       "  <th>con</th>         <td>    0.1373</td> <td>    0.222</td> <td>    0.620</td> <td> 0.539</td> <td>   -0.310</td> <td>    0.585</td>\n",
       "</tr>\n",
       "<tr>\n",
       "  <th>murderRateB</th> <td>    0.3203</td> <td>    0.118</td> <td>    2.706</td> <td> 0.010</td> <td>    0.081</td> <td>    0.559</td>\n",
       "</tr>\n",
       "<tr>\n",
       "  <th>murderRateW</th> <td>   -0.2811</td> <td>    0.157</td> <td>   -1.794</td> <td> 0.080</td> <td>   -0.598</td> <td>    0.035</td>\n",
       "</tr>\n",
       "</table>\n",
       "<table class=\"simpletable\">\n",
       "<tr>\n",
       "  <th>Omnibus:</th>       <td> 0.061</td> <th>  Durbin-Watson:     </th> <td>   1.668</td>\n",
       "</tr>\n",
       "<tr>\n",
       "  <th>Prob(Omnibus):</th> <td> 0.970</td> <th>  Jarque-Bera (JB):  </th> <td>   0.022</td>\n",
       "</tr>\n",
       "<tr>\n",
       "  <th>Skew:</th>          <td>-0.002</td> <th>  Prob(JB):          </th> <td>   0.989</td>\n",
       "</tr>\n",
       "<tr>\n",
       "  <th>Kurtosis:</th>      <td> 2.898</td> <th>  Cond. No.          </th> <td>    6.25</td>\n",
       "</tr>\n",
       "</table><br/><br/>Warnings:<br/>[1] Standard Errors assume that the covariance matrix of the errors is correctly specified."
      ],
      "text/plain": [
       "<class 'statsmodels.iolib.summary.Summary'>\n",
       "\"\"\"\n",
       "                            OLS Regression Results                            \n",
       "==============================================================================\n",
       "Dep. Variable:           blackViolent   R-squared:                       0.572\n",
       "Model:                            OLS   Adj. R-squared:                  0.488\n",
       "Method:                 Least Squares   F-statistic:                     6.843\n",
       "Date:                Sat, 04 Apr 2020   Prob (F-statistic):           1.11e-05\n",
       "Time:                        13:58:07   Log-Likelihood:                -49.240\n",
       "No. Observations:                  50   AIC:                             116.5\n",
       "Df Residuals:                      41   BIC:                             133.7\n",
       "Df Model:                           8                                         \n",
       "Covariance Type:            nonrobust                                         \n",
       "===============================================================================\n",
       "                  coef    std err          t      P>|t|      [0.025      0.975]\n",
       "-------------------------------------------------------------------------------\n",
       "Intercept    7.949e-15      0.101   7.86e-14      1.000      -0.204       0.204\n",
       "sexRatio       -0.7174      0.155     -4.615      0.000      -1.031      -0.403\n",
       "age            -0.0272      0.158     -0.172      0.864      -0.346       0.292\n",
       "perWhite       -0.1427      0.201     -0.708      0.483      -0.549       0.264\n",
       "income          0.5495      0.202      2.718      0.010       0.141       0.958\n",
       "bachelors      -0.5333      0.254     -2.098      0.042      -1.047      -0.020\n",
       "con             0.1373      0.222      0.620      0.539      -0.310       0.585\n",
       "murderRateB     0.3203      0.118      2.706      0.010       0.081       0.559\n",
       "murderRateW    -0.2811      0.157     -1.794      0.080      -0.598       0.035\n",
       "==============================================================================\n",
       "Omnibus:                        0.061   Durbin-Watson:                   1.668\n",
       "Prob(Omnibus):                  0.970   Jarque-Bera (JB):                0.022\n",
       "Skew:                          -0.002   Prob(JB):                        0.989\n",
       "Kurtosis:                       2.898   Cond. No.                         6.25\n",
       "==============================================================================\n",
       "\n",
       "Warnings:\n",
       "[1] Standard Errors assume that the covariance matrix of the errors is correctly specified.\n",
       "\"\"\""
      ]
     },
     "execution_count": 18,
     "metadata": {},
     "output_type": "execute_result"
    }
   ],
   "source": [
    "# Results for model using murder as a feature\n",
    "murder_model.summary()"
   ]
  },
  {
   "cell_type": "markdown",
   "metadata": {},
   "source": [
    "### Test with murder data\n",
    "\n",
    "In states with higher murder rates among White Americans, the Black-violent stereotype is weaker.\n",
    "\n",
    "In states with higher murder rates among Black Americans, the Black-violent stereotype is stronger."
   ]
  },
  {
   "cell_type": "code",
   "execution_count": 19,
   "metadata": {},
   "outputs": [
    {
     "data": {
      "text/html": [
       "<table class=\"simpletable\">\n",
       "<caption>OLS Regression Results</caption>\n",
       "<tr>\n",
       "  <th>Dep. Variable:</th>      <td>blackViolent</td>   <th>  R-squared:         </th> <td>   0.706</td>\n",
       "</tr>\n",
       "<tr>\n",
       "  <th>Model:</th>                   <td>OLS</td>       <th>  Adj. R-squared:    </th> <td>   0.648</td>\n",
       "</tr>\n",
       "<tr>\n",
       "  <th>Method:</th>             <td>Least Squares</td>  <th>  F-statistic:       </th> <td>   12.28</td>\n",
       "</tr>\n",
       "<tr>\n",
       "  <th>Date:</th>             <td>Sat, 04 Apr 2020</td> <th>  Prob (F-statistic):</th> <td>9.20e-09</td>\n",
       "</tr>\n",
       "<tr>\n",
       "  <th>Time:</th>                 <td>13:58:07</td>     <th>  Log-Likelihood:    </th> <td> -39.877</td>\n",
       "</tr>\n",
       "<tr>\n",
       "  <th>No. Observations:</th>      <td>    50</td>      <th>  AIC:               </th> <td>   97.75</td>\n",
       "</tr>\n",
       "<tr>\n",
       "  <th>Df Residuals:</th>          <td>    41</td>      <th>  BIC:               </th> <td>   115.0</td>\n",
       "</tr>\n",
       "<tr>\n",
       "  <th>Df Model:</th>              <td>     8</td>      <th>                     </th>     <td> </td>   \n",
       "</tr>\n",
       "<tr>\n",
       "  <th>Covariance Type:</th>      <td>nonrobust</td>    <th>                     </th>     <td> </td>   \n",
       "</tr>\n",
       "</table>\n",
       "<table class=\"simpletable\">\n",
       "<tr>\n",
       "       <td></td>         <th>coef</th>     <th>std err</th>      <th>t</th>      <th>P>|t|</th>  <th>[0.025</th>    <th>0.975]</th>  \n",
       "</tr>\n",
       "<tr>\n",
       "  <th>Intercept</th>  <td> 7.949e-15</td> <td>    0.084</td> <td> 9.47e-14</td> <td> 1.000</td> <td>   -0.169</td> <td>    0.169</td>\n",
       "</tr>\n",
       "<tr>\n",
       "  <th>sexRatio</th>   <td>   -0.5126</td> <td>    0.133</td> <td>   -3.863</td> <td> 0.000</td> <td>   -0.781</td> <td>   -0.245</td>\n",
       "</tr>\n",
       "<tr>\n",
       "  <th>age</th>        <td>    0.1458</td> <td>    0.136</td> <td>    1.074</td> <td> 0.289</td> <td>   -0.128</td> <td>    0.420</td>\n",
       "</tr>\n",
       "<tr>\n",
       "  <th>perWhite</th>   <td>   -0.2166</td> <td>    0.166</td> <td>   -1.306</td> <td> 0.199</td> <td>   -0.551</td> <td>    0.118</td>\n",
       "</tr>\n",
       "<tr>\n",
       "  <th>income</th>     <td>    0.4762</td> <td>    0.172</td> <td>    2.774</td> <td> 0.008</td> <td>    0.130</td> <td>    0.823</td>\n",
       "</tr>\n",
       "<tr>\n",
       "  <th>bachelors</th>  <td>   -0.5131</td> <td>    0.207</td> <td>   -2.473</td> <td> 0.018</td> <td>   -0.932</td> <td>   -0.094</td>\n",
       "</tr>\n",
       "<tr>\n",
       "  <th>con</th>        <td>    0.4248</td> <td>    0.200</td> <td>    2.123</td> <td> 0.040</td> <td>    0.021</td> <td>    0.829</td>\n",
       "</tr>\n",
       "<tr>\n",
       "  <th>deathRateB</th> <td>    0.5001</td> <td>    0.105</td> <td>    4.752</td> <td> 0.000</td> <td>    0.288</td> <td>    0.713</td>\n",
       "</tr>\n",
       "<tr>\n",
       "  <th>deathRateW</th> <td>   -0.4664</td> <td>    0.141</td> <td>   -3.313</td> <td> 0.002</td> <td>   -0.751</td> <td>   -0.182</td>\n",
       "</tr>\n",
       "</table>\n",
       "<table class=\"simpletable\">\n",
       "<tr>\n",
       "  <th>Omnibus:</th>       <td> 0.823</td> <th>  Durbin-Watson:     </th> <td>   1.491</td>\n",
       "</tr>\n",
       "<tr>\n",
       "  <th>Prob(Omnibus):</th> <td> 0.663</td> <th>  Jarque-Bera (JB):  </th> <td>   0.884</td>\n",
       "</tr>\n",
       "<tr>\n",
       "  <th>Skew:</th>          <td>-0.276</td> <th>  Prob(JB):          </th> <td>   0.643</td>\n",
       "</tr>\n",
       "<tr>\n",
       "  <th>Kurtosis:</th>      <td> 2.652</td> <th>  Cond. No.          </th> <td>    6.78</td>\n",
       "</tr>\n",
       "</table><br/><br/>Warnings:<br/>[1] Standard Errors assume that the covariance matrix of the errors is correctly specified."
      ],
      "text/plain": [
       "<class 'statsmodels.iolib.summary.Summary'>\n",
       "\"\"\"\n",
       "                            OLS Regression Results                            \n",
       "==============================================================================\n",
       "Dep. Variable:           blackViolent   R-squared:                       0.706\n",
       "Model:                            OLS   Adj. R-squared:                  0.648\n",
       "Method:                 Least Squares   F-statistic:                     12.28\n",
       "Date:                Sat, 04 Apr 2020   Prob (F-statistic):           9.20e-09\n",
       "Time:                        13:58:07   Log-Likelihood:                -39.877\n",
       "No. Observations:                  50   AIC:                             97.75\n",
       "Df Residuals:                      41   BIC:                             115.0\n",
       "Df Model:                           8                                         \n",
       "Covariance Type:            nonrobust                                         \n",
       "==============================================================================\n",
       "                 coef    std err          t      P>|t|      [0.025      0.975]\n",
       "------------------------------------------------------------------------------\n",
       "Intercept   7.949e-15      0.084   9.47e-14      1.000      -0.169       0.169\n",
       "sexRatio      -0.5126      0.133     -3.863      0.000      -0.781      -0.245\n",
       "age            0.1458      0.136      1.074      0.289      -0.128       0.420\n",
       "perWhite      -0.2166      0.166     -1.306      0.199      -0.551       0.118\n",
       "income         0.4762      0.172      2.774      0.008       0.130       0.823\n",
       "bachelors     -0.5131      0.207     -2.473      0.018      -0.932      -0.094\n",
       "con            0.4248      0.200      2.123      0.040       0.021       0.829\n",
       "deathRateB     0.5001      0.105      4.752      0.000       0.288       0.713\n",
       "deathRateW    -0.4664      0.141     -3.313      0.002      -0.751      -0.182\n",
       "==============================================================================\n",
       "Omnibus:                        0.823   Durbin-Watson:                   1.491\n",
       "Prob(Omnibus):                  0.663   Jarque-Bera (JB):                0.884\n",
       "Skew:                          -0.276   Prob(JB):                        0.643\n",
       "Kurtosis:                       2.652   Cond. No.                         6.78\n",
       "==============================================================================\n",
       "\n",
       "Warnings:\n",
       "[1] Standard Errors assume that the covariance matrix of the errors is correctly specified.\n",
       "\"\"\""
      ]
     },
     "execution_count": 19,
     "metadata": {},
     "output_type": "execute_result"
    }
   ],
   "source": [
    "# Results for model using death as a feature\n",
    "death_model.summary()"
   ]
  },
  {
   "cell_type": "markdown",
   "metadata": {},
   "source": [
    "### Replication with homicide data\n",
    "\n",
    "In states with higher homicide rates among White Americans, the Black-violent stereotype is weaker.\n",
    "\n",
    "In states with higher homicide rates among Black Americans, the Black-violent stereotype is stronger."
   ]
  },
  {
   "cell_type": "code",
   "execution_count": 20,
   "metadata": {},
   "outputs": [
    {
     "name": "stdout",
     "output_type": "stream",
     "text": [
      "Control Model R**2: 0.49\n",
      "Murder Model R**2: 0.57\n",
      "Death Model R**2: 0.71\n"
     ]
    }
   ],
   "source": [
    "# Model predictive power using R**2 \n",
    "print(f'Control Model R**2: {round(control_model.rsquared, 2)}\\n\\\n",
    "Murder Model R**2: {round(murder_model.rsquared, 2)}\\n\\\n",
    "Death Model R**2: {round(death_model.rsquared, 2)}')"
   ]
  },
  {
   "cell_type": "code",
   "execution_count": 21,
   "metadata": {},
   "outputs": [],
   "source": [
    "%%capture\n",
    "# Capture needed because of errors due to NaNs\n",
    "# Test model differences\n",
    "con_mur = ano.anova_lm(control_model, murder_model)\n",
    "con_dea = ano.anova_lm(control_model, death_model)"
   ]
  },
  {
   "cell_type": "code",
   "execution_count": 22,
   "metadata": {},
   "outputs": [
    {
     "data": {
      "text/html": [
       "<div>\n",
       "<style scoped>\n",
       "    .dataframe tbody tr th:only-of-type {\n",
       "        vertical-align: middle;\n",
       "    }\n",
       "\n",
       "    .dataframe tbody tr th {\n",
       "        vertical-align: top;\n",
       "    }\n",
       "\n",
       "    .dataframe thead th {\n",
       "        text-align: right;\n",
       "    }\n",
       "</style>\n",
       "<table border=\"1\" class=\"dataframe\">\n",
       "  <thead>\n",
       "    <tr style=\"text-align: right;\">\n",
       "      <th></th>\n",
       "      <th>df_resid</th>\n",
       "      <th>ssr</th>\n",
       "      <th>df_diff</th>\n",
       "      <th>ss_diff</th>\n",
       "      <th>F</th>\n",
       "      <th>Pr(&gt;F)</th>\n",
       "    </tr>\n",
       "  </thead>\n",
       "  <tbody>\n",
       "    <tr>\n",
       "      <th>1</th>\n",
       "      <td>41.0</td>\n",
       "      <td>20.983446</td>\n",
       "      <td>2.0</td>\n",
       "      <td>4.079753</td>\n",
       "      <td>3.985758</td>\n",
       "      <td>0.026195</td>\n",
       "    </tr>\n",
       "  </tbody>\n",
       "</table>\n",
       "</div>"
      ],
      "text/plain": [
       "   df_resid        ssr  df_diff   ss_diff         F    Pr(>F)\n",
       "1      41.0  20.983446      2.0  4.079753  3.985758  0.026195"
      ]
     },
     "execution_count": 22,
     "metadata": {},
     "output_type": "execute_result"
    }
   ],
   "source": [
    "con_mur[1:2] # Difference between control and murder model is significant"
   ]
  },
  {
   "cell_type": "code",
   "execution_count": 23,
   "metadata": {},
   "outputs": [
    {
     "data": {
      "text/html": [
       "<div>\n",
       "<style scoped>\n",
       "    .dataframe tbody tr th:only-of-type {\n",
       "        vertical-align: middle;\n",
       "    }\n",
       "\n",
       "    .dataframe tbody tr th {\n",
       "        vertical-align: top;\n",
       "    }\n",
       "\n",
       "    .dataframe thead th {\n",
       "        text-align: right;\n",
       "    }\n",
       "</style>\n",
       "<table border=\"1\" class=\"dataframe\">\n",
       "  <thead>\n",
       "    <tr style=\"text-align: right;\">\n",
       "      <th></th>\n",
       "      <th>df_resid</th>\n",
       "      <th>ssr</th>\n",
       "      <th>df_diff</th>\n",
       "      <th>ss_diff</th>\n",
       "      <th>F</th>\n",
       "      <th>Pr(&gt;F)</th>\n",
       "    </tr>\n",
       "  </thead>\n",
       "  <tbody>\n",
       "    <tr>\n",
       "      <th>1</th>\n",
       "      <td>41.0</td>\n",
       "      <td>14.428718</td>\n",
       "      <td>2.0</td>\n",
       "      <td>10.634481</td>\n",
       "      <td>15.109233</td>\n",
       "      <td>0.000012</td>\n",
       "    </tr>\n",
       "  </tbody>\n",
       "</table>\n",
       "</div>"
      ],
      "text/plain": [
       "   df_resid        ssr  df_diff    ss_diff          F    Pr(>F)\n",
       "1      41.0  14.428718      2.0  10.634481  15.109233  0.000012"
      ]
     },
     "execution_count": 23,
     "metadata": {},
     "output_type": "execute_result"
    }
   ],
   "source": [
    "con_dea[1:2] # Difference between control and death model is significant"
   ]
  }
 ],
 "metadata": {
  "kernelspec": {
   "display_name": "Python 3",
   "language": "python",
   "name": "python3"
  },
  "language_info": {
   "codemirror_mode": {
    "name": "ipython",
    "version": 3
   },
   "file_extension": ".py",
   "mimetype": "text/x-python",
   "name": "python",
   "nbconvert_exporter": "python",
   "pygments_lexer": "ipython3",
   "version": "3.7.6"
  }
 },
 "nbformat": 4,
 "nbformat_minor": 4
}
